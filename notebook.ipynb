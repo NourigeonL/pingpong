{
 "cells": [
  {
   "cell_type": "code",
   "execution_count": 1,
   "metadata": {},
   "outputs": [],
   "source": [
    "from eventsourcing.event_stores import InMemEventStore, JSONEventStore\n",
    "from eventsourcing.exceptions import ConcurrencyError\n",
    "from models import Tournament, Federation\n",
    "from models.entities import MatchResult\n",
    "from enums import Bracket, Result, Stage\n",
    "from tournament_service import TournamentService, ClubForm, ParticipantForm\n",
    "from uuid import uuid4\n",
    "from datetime import date"
   ]
  },
  {
   "cell_type": "code",
   "execution_count": 2,
   "metadata": {},
   "outputs": [],
   "source": [
    "tournament = Tournament(\"금관리그 11월정기리그\", \"금관리그 11월정기리그\", date(2024,11,23))\n",
    "federation = Federation(\"SKFTT\")\n",
    "tournament_service = TournamentService(federation)"
   ]
  },
  {
   "cell_type": "code",
   "execution_count": 3,
   "metadata": {},
   "outputs": [],
   "source": [
    "# federation.register_club(\"인헌탁구클럽\", \"관악구민쳬\", \"관악탁구\", \"낙성대탁구\", \"럭키탁구\", \"성원탁구\", \"소사탁구\", \"신사리탁구\", \"엘리트동호\", \"정수탁구\", \"최은권탁구\", \"탁우리\", \"한성탁구\")\n",
    "# print(federation.clubs)"
   ]
  },
  {
   "cell_type": "code",
   "execution_count": 4,
   "metadata": {},
   "outputs": [],
   "source": [
    "# federation.register_many_players([\"루이\",\"치효규\",\"장인성\", \"장성규\", \"홍정현\", \"배선준\", ])\n",
    "# print(federation.players)"
   ]
  },
  {
   "cell_type": "code",
   "execution_count": 5,
   "metadata": {},
   "outputs": [
    {
     "name": "stdout",
     "output_type": "stream",
     "text": [
      "14\n",
      "46\n",
      "46\n"
     ]
    }
   ],
   "source": [
    "tournament_service.register_players_to_tournament(tournament, [ClubForm(id=\"개인\", player_list=[ParticipantForm(id=\"장성규\", rank=5),\n",
    "                                                                                            ParticipantForm(id=\"홍정현\", rank=5),\n",
    "                                                                                            ParticipantForm(id=\"배선준\", rank=6),\n",
    "                                                                                            ParticipantForm(id=\"고광일\", rank=7),\n",
    "                                                                                            ParticipantForm(id=\"남창호\", rank=7),\n",
    "                                                                                            ParticipantForm(id=\"조일구\", rank=7)]),\n",
    "                                                                ClubForm(id=\"관악구민쳬\", player_list=[ParticipantForm(id=\"김병준\", rank=9)]),\n",
    "                                                                ClubForm(id=\"관악타구\", player_list=[ParticipantForm(id=\"김광민\", rank=7),\n",
    "                                                                                            ParticipantForm(id=\"김봉우\", rank=7),\n",
    "                                                                                            ParticipantForm(id=\"김주형\", rank=7),\n",
    "                                                                                            ParticipantForm(id=\"오태희\", rank=7),\n",
    "                                                                                            ParticipantForm(id=\"정용운\", rank=8)]),\n",
    "                                                                ClubForm(id=\"낙성대탁구\", player_list=[ParticipantForm(id=\"김민석\", rank=6),\n",
    "                                                                                            ParticipantForm(id=\"윤범식\", rank=8),\n",
    "                                                                                            ParticipantForm(id=\"김동현\", rank=9),\n",
    "                                                                                            ParticipantForm(id=\"김찬혁\", rank=8)\n",
    "                                                                                            ]),\n",
    "                                                                ClubForm(id=\"럭키탁구\", player_list=[ParticipantForm(id=\"김창환\", rank=8),\n",
    "                                                                                            ParticipantForm(id=\"김헌민\", rank=8),\n",
    "                                                                                            ParticipantForm(id=\"손영웅\", rank=9),\n",
    "                                                                                            ParticipantForm(id=\"이용규\", rank=9)\n",
    "                                                                                            ]),\n",
    "                                                                ClubForm(id=\"성원탁구\", player_list=[ParticipantForm(id=\"김인환\", rank=7),\n",
    "                                                                                            ParticipantForm(id=\"김재학\", rank=7),\n",
    "                                                                                            ParticipantForm(id=\"김대식\", rank=8),\n",
    "                                                                                            ParticipantForm(id=\"정두석\", rank=8),\n",
    "                                                                                            ParticipantForm(id=\"임재국\", rank=9)\n",
    "                                                                                            ]),\n",
    "                                                                ClubForm(id=\"소사탁구\", player_list=[ParticipantForm(id=\"김대영\", rank=5),\n",
    "                                                                                            ParticipantForm(id=\"박경옥\", rank=8),\n",
    "                                                                                            ]),\n",
    "                                                                ClubForm(id=\"신사리탁구\", player_list=[ParticipantForm(id=\"김현욱\", rank=8)\n",
    "                                                                                            ]),\n",
    "                                                                ClubForm(id=\"엘리트동호\", player_list=[ParticipantForm(id=\"이영덕\", rank=8)]),\n",
    "                                                                ClubForm(id=\"인헌탁구\", player_list=[ParticipantForm(id=\"루이\", rank=6),\n",
    "                                                                                            ParticipantForm(id=\"김성호\", rank=7),\n",
    "                                                                                            ParticipantForm(id=\"정상민\", rank=8),\n",
    "                                                                                            ParticipantForm(id=\"장인성\", rank=9),\n",
    "                                                                                            ParticipantForm(id=\"정재영\", rank=9)\n",
    "                                                                                            ]),\n",
    "                                                                ClubForm(id=\"정수탁구\", player_list=[ParticipantForm(id=\"윤경석\", rank=8),\n",
    "                                                                                            ParticipantForm(id=\"이승환\", rank=8)\n",
    "                                                                                            ]),\n",
    "                                                                ClubForm(id=\"최은권탁구\", player_list=[ParticipantForm(id=\"박종희\", rank=7),\n",
    "                                                                                            ParticipantForm(id=\"오세광\", rank=7),\n",
    "                                                                                            ParticipantForm(id=\"사세진\", rank=8),\n",
    "                                                                                            ParticipantForm(id=\"윤해찬\", rank=8)\n",
    "                                                                                            ]),\n",
    "                                                                ClubForm(id=\"탁우리\", player_list=[ParticipantForm(id=\"허정회\", rank=6),\n",
    "                                                                                            ParticipantForm(id=\"신치만\", rank=8),\n",
    "                                                                                            ParticipantForm(id=\"최용귀\", rank=9)\n",
    "                                                                                            ]),\n",
    "                                                                ClubForm(id=\"한성탁구\", player_list=[ParticipantForm(id=\"김성곤\", rank=7),\n",
    "                                                                                            ParticipantForm(id=\"김동주\", rank=8),\n",
    "                                                                                            ParticipantForm(id=\"이정기\", rank=9)\n",
    "                                                                                            ])\n",
    "                                                                ])\n",
    "\n",
    "print(len(federation.clubs))\n",
    "print(len(federation.players))\n",
    "print(len(tournament.participants))"
   ]
  },
  {
   "cell_type": "code",
   "execution_count": 6,
   "metadata": {},
   "outputs": [
    {
     "name": "stdout",
     "output_type": "stream",
     "text": [
      "['홍정현', '김동주', '오태회', '윤경석', '박종희', '정두석', '신차만', '윤해찬', '이영덕', '허정회', '임재국', '조일구', '박경옥', '오세광', '장인성', '루이']\n",
      "['홍정현', '윤경석', '박종희', '신차만', '허정회', '조일구', '박경옥', '루이']\n",
      "['홍정현', '박종희', '허정회', '루이']\n",
      "['홍정현', '허정회']\n",
      "['홍정현']\n",
      "['김민석', '김재학', '김창환', '서세진', '김성호', '김대식', '김대영', '김인환']\n",
      "['김민석', '서세진', '김대식', '김대영']\n",
      "['서세진', '김대영']\n",
      "['서세진']\n",
      "148\n"
     ]
    }
   ],
   "source": [
    "tournament_service.register_groupe_stage_result(tournament, participants=[\"김대영\",\"장성규\", \"홍정현\", \"허정회\", \"김민석\", \"루이\"], \n",
    "                                                results=[[Result.A_LOSE, Result.A_LOSE, Result.A_LOSE, Result.A_LOSE, Result.A_LOSE],\n",
    "                                                         [Result.A_LOSE, Result.A_LOSE, Result.A_WON, Result.A_LOSE],\n",
    "                                                         [Result.A_WON, Result.A_WON, Result.A_WON],\n",
    "                                                         [Result.A_WON, Result.A_LOSE],\n",
    "                                                         [Result.A_LOSE]])\n",
    "tournament_service.register_groupe_stage_result(tournament, participants=[\"배선준\",\"김인환\", \"김재학\", \"김봉우\", \"김주형\", \"김성곤\"], \n",
    "                                                results=[[Result.A_LOSE, Result.A_WON, Result.A_WON, Result.A_LOSE, Result.A_WON],\n",
    "                                                         [Result.A_WON, Result.A_LOSE, Result.A_LOSE, Result.A_LOSE],\n",
    "                                                         [Result.A_LOSE, Result.A_LOSE, Result.A_LOSE],\n",
    "                                                         [Result.A_LOSE, Result.A_LOSE],\n",
    "                                                         [Result.A_WON]])\n",
    "tournament_service.register_groupe_stage_result(tournament, participants=[\"오태희\",\"조일구\", \"김성호\", \"박종희\", \"오세광\"], \n",
    "                                                results=[[Result.A_LOSE, Result.A_WON, Result.A_LOSE, Result.A_LOSE],\n",
    "                                                         [Result.A_WON, Result.A_LOSE, Result.A_WON],\n",
    "                                                         [Result.A_LOSE, Result.A_LOSE],\n",
    "                                                         [Result.A_LOSE]])\n",
    "tournament_service.register_groupe_stage_result(tournament, participants=[\"남창호\",\"신치만\", \"이승환\", \"서세진\", \"김대식\", \"김광민\"], \n",
    "                                                results=[[Result.A_LOSE, Result.A_WON, Result.A_WON, Result.A_WON, Result.A_LOSE],\n",
    "                                                         [Result.A_LOSE, Result.A_WON, Result.A_WON, Result.A_WON],\n",
    "                                                         [Result.A_LOSE, Result.A_WON, Result.A_WON],\n",
    "                                                         [Result.A_WON, Result.A_LOSE],\n",
    "                                                         [Result.A_LOSE]])\n",
    "tournament_service.register_groupe_stage_result(tournament, participants=[\"윤해찬\",\"김창환\", \"김현욱\", \"김동주\", \"이영덕\", \"정용운운\"], \n",
    "                                                results=[[Result.A_WON, Result.A_WON, Result.A_LOSE, Result.A_LOSE, Result.A_WON],\n",
    "                                                         [Result.A_LOSE, Result.A_LOSE, Result.A_LOSE, Result.A_WON],\n",
    "                                                         [Result.A_LOSE, Result.A_LOSE, Result.A_LOSE],\n",
    "                                                         [Result.A_LOSE, Result.A_WON],\n",
    "                                                         [Result.A_WON]])\n",
    "tournament_service.register_groupe_stage_result(tournament, participants=[\"윤경석\",\"김찬혁\", \"최용귀\", \"임재국\", \"손영웅\", \"정재영\"], \n",
    "                                                results=[[Result.A_WON, Result.A_WON, Result.A_LOSE, Result.A_WON, Result.A_WON],\n",
    "                                                         [Result.A_WON, Result.A_LOSE, Result.A_WON, Result.A_LOSE],\n",
    "                                                         [Result.A_LOSE, Result.A_LOSE, Result.A_LOSE],\n",
    "                                                         [Result.A_WON, Result.A_WON],\n",
    "                                                         [Result.A_WON]])\n",
    "tournament_service.register_groupe_stage_result(tournament, participants=[\"정두석\",\"박경옥\", \"정상민\", \"윤범식\", \"김헌민\"], \n",
    "                                                results=[[Result.A_LOSE, Result.A_WON, Result.A_WON, Result.A_WON],\n",
    "                                                         [Result.A_WON, Result.A_LOSE, Result.A_WON],\n",
    "                                                         [Result.A_WON, Result.A_WON],\n",
    "                                                         [Result.A_WON]])\n",
    "tournament_service.register_groupe_stage_result(tournament, participants=[\"김병준\",\"이정기\", \"김동현\", \"장인성\", \"이용규\"], \n",
    "                                                results=[[Result.A_WON, Result.A_LOSE, Result.A_LOSE, Result.A_LOSE],\n",
    "                                                         [Result.A_LOSE, Result.A_LOSE, Result.A_LOSE],\n",
    "                                                         [Result.A_WON, Result.A_LOSE],\n",
    "                                                         [Result.A_WON]])\n",
    "\n",
    "qualified_players = tournament_service.register_stage_result(tournament, Stage.ROUND_OF_32, Bracket.WINNER, [\"홍정현\", \"남창호\", \"김동현\", \"김동주\", \"김주형\", \"오태회\", \"정상민\", \"윤경석\", \"박종희\", \"김봉우\", \"손영옹\", \"정두석\", \"신차만\", \"장성규\", \"윤해찬\", \"이용규\", \"이영덕\", None, \"허정회\", \"이승환\", \"임재국\", None, \"김성곤\", \"조일구\", \"박경옥\", \"정재영\", \"오세광\", \"배선준\", \"장인성\", \"김현욱\", \"김광민\", \"루이\"], [Result.A_WON, Result.A_LOSE, Result.A_LOSE, Result.A_LOSE, Result.A_WON, Result.A_LOSE, Result.A_WON, Result.A_WON, Result.A_WON, Result.A_WON, Result.A_WON, Result.A_LOSE, Result.A_WON, Result.A_WON, Result.A_WON, Result.A_LOSE])\n",
    "print(qualified_players)\n",
    "qualified_players = tournament_service.register_stage_result(tournament, Stage.ROUND_OF_16, Bracket.WINNER, qualified_players, [Result.A_WON, Result.A_LOSE, Result.A_WON, Result.A_WON, Result.A_LOSE, Result.A_LOSE, Result.A_WON, Result.A_LOSE])\n",
    "print(qualified_players)\n",
    "qualified_players = tournament_service.register_stage_result(tournament, Stage.QUARTER_FINAL, Bracket.WINNER, qualified_players, [Result.A_WON, Result.A_WON, Result.A_WON, Result.A_LOSE])\n",
    "print(qualified_players)\n",
    "qualified_players = tournament_service.register_stage_result(tournament, Stage.SEMI_FINAL, Bracket.WINNER, qualified_players, [Result.A_WON, Result.A_WON])\n",
    "print(qualified_players)\n",
    "winner = tournament_service.register_stage_result(tournament, Stage.FINAL, Bracket.WINNER, qualified_players, [Result.A_WON])\n",
    "print(winner)\n",
    "\n",
    "qualified_players = tournament_service.register_stage_result(tournament, Stage.ROUND_OF_16, Bracket.LOSER, [\"김민석\", \"김헌민\", \"김재학\", \"김병준\", \"김창환\", None, \"최용귀\", \"서세진\", \"김성호\", \"정용운\", \"김대식\", \"김찬혁혁\", \"윤범식\", \"김대영\", \"이정기\", \"김인환\"], [Result.A_WON, Result.A_WON, Result.A_WON, Result.A_LOSE, Result.A_WON, Result.A_WON, Result.A_LOSE, Result.A_LOSE])\n",
    "print(qualified_players)\n",
    "qualified_players = tournament_service.register_stage_result(tournament, Stage.QUARTER_FINAL, Bracket.LOSER, qualified_players, [Result.A_WON, Result.A_LOSE, Result.A_LOSE, Result.A_WON])\n",
    "print(qualified_players)\n",
    "qualified_players = tournament_service.register_stage_result(tournament, Stage.SEMI_FINAL, Bracket.LOSER, qualified_players, [Result.A_LOSE, Result.A_LOSE])\n",
    "print(qualified_players)\n",
    "winner = tournament_service.register_stage_result(tournament, Stage.FINAL, Bracket.LOSER, qualified_players, [Result.A_WON])\n",
    "print(winner)\n",
    "\n",
    "print(len(tournament.match_history))\n"
   ]
  },
  {
   "cell_type": "code",
   "execution_count": 7,
   "metadata": {},
   "outputs": [
    {
     "ename": "TypeError",
     "evalue": "The object should be a dictionary or a dataclass",
     "output_type": "error",
     "traceback": [
      "\u001b[1;31m---------------------------------------------------------------------------\u001b[0m",
      "\u001b[1;31mTypeError\u001b[0m                                 Traceback (most recent call last)",
      "Cell \u001b[1;32mIn[7], line 3\u001b[0m\n\u001b[0;32m      1\u001b[0m event_store \u001b[38;5;241m=\u001b[39m JSONEventStore()\n\u001b[0;32m      2\u001b[0m \u001b[38;5;28;01mawait\u001b[39;00m event_store\u001b[38;5;241m.\u001b[39msave_aggregate(federation)\n\u001b[1;32m----> 3\u001b[0m \u001b[38;5;28;01mawait\u001b[39;00m event_store\u001b[38;5;241m.\u001b[39msave_aggregate(tournament)\n",
      "File \u001b[1;32mc:\\Users\\louis\\Desktop\\code\\pingpong\\eventsourcing\\event_stores.py:18\u001b[0m, in \u001b[0;36mIEventStore.save_aggregate\u001b[1;34m(self, aggregate)\u001b[0m\n\u001b[0;32m     17\u001b[0m \u001b[38;5;28;01masync\u001b[39;00m \u001b[38;5;28;01mdef\u001b[39;00m \u001b[38;5;21msave_aggregate\u001b[39m(\u001b[38;5;28mself\u001b[39m, aggregate : AggregateRoot) \u001b[38;5;241m-\u001b[39m\u001b[38;5;241m>\u001b[39m \u001b[38;5;28;01mNone\u001b[39;00m:\n\u001b[1;32m---> 18\u001b[0m     \u001b[38;5;28;01mawait\u001b[39;00m \u001b[38;5;28mself\u001b[39m\u001b[38;5;241m.\u001b[39msave_events(aggregate\u001b[38;5;241m.\u001b[39mto_stream_id(aggregate\u001b[38;5;241m.\u001b[39mid), aggregate\u001b[38;5;241m.\u001b[39mget_uncommitted_changes(), aggregate\u001b[38;5;241m.\u001b[39mversion)\n\u001b[0;32m     19\u001b[0m     aggregate\u001b[38;5;241m.\u001b[39mmark_changes_as_committed()\n",
      "File \u001b[1;32mc:\\Users\\louis\\Desktop\\code\\pingpong\\eventsourcing\\event_stores.py:109\u001b[0m, in \u001b[0;36mJSONEventStore.save_events\u001b[1;34m(self, aggregate_id, events, expected_version)\u001b[0m\n\u001b[0;32m    107\u001b[0m \u001b[38;5;28;01mfor\u001b[39;00m event \u001b[38;5;129;01min\u001b[39;00m events:\n\u001b[0;32m    108\u001b[0m     i \u001b[38;5;241m+\u001b[39m\u001b[38;5;241m=\u001b[39m \u001b[38;5;241m1\u001b[39m\n\u001b[1;32m--> 109\u001b[0m     event_descriptors\u001b[38;5;241m.\u001b[39mappend(EventDescriptorDict(\u001b[38;5;28mid\u001b[39m\u001b[38;5;241m=\u001b[39maggregate_id, event_type\u001b[38;5;241m=\u001b[39mevent\u001b[38;5;241m.\u001b[39mtype,event_data\u001b[38;5;241m=\u001b[39m\u001b[43mevent\u001b[49m\u001b[38;5;241;43m.\u001b[39;49m\u001b[43mto_dict\u001b[49m\u001b[43m(\u001b[49m\u001b[43m)\u001b[49m, version\u001b[38;5;241m=\u001b[39mi))\n\u001b[0;32m    111\u001b[0m \u001b[38;5;28;01mwith\u001b[39;00m \u001b[38;5;28mopen\u001b[39m(\u001b[38;5;124mf\u001b[39m\u001b[38;5;124m\"\u001b[39m\u001b[38;5;132;01m{\u001b[39;00maggregate_id\u001b[38;5;132;01m}\u001b[39;00m\u001b[38;5;124m.json\u001b[39m\u001b[38;5;124m\"\u001b[39m, \u001b[38;5;124m\"\u001b[39m\u001b[38;5;124mw\u001b[39m\u001b[38;5;124m\"\u001b[39m, encoding\u001b[38;5;241m=\u001b[39m\u001b[38;5;124m\"\u001b[39m\u001b[38;5;124mutf-8\u001b[39m\u001b[38;5;124m\"\u001b[39m) \u001b[38;5;28;01mas\u001b[39;00m f:\n\u001b[0;32m    112\u001b[0m     json\u001b[38;5;241m.\u001b[39mdump(\u001b[38;5;28mself\u001b[39m\u001b[38;5;241m.\u001b[39mcurrent, f, ensure_ascii\u001b[38;5;241m=\u001b[39m\u001b[38;5;28;01mFalse\u001b[39;00m)\n",
      "File \u001b[1;32mc:\\Users\\louis\\Desktop\\code\\pingpong\\eventsourcing\\data.py:111\u001b[0m, in \u001b[0;36mData.to_dict\u001b[1;34m(self)\u001b[0m\n\u001b[0;32m    110\u001b[0m \u001b[38;5;28;01mdef\u001b[39;00m \u001b[38;5;21mto_dict\u001b[39m(\u001b[38;5;28mself\u001b[39m) \u001b[38;5;241m-\u001b[39m\u001b[38;5;241m>\u001b[39m \u001b[38;5;28mdict\u001b[39m:\n\u001b[1;32m--> 111\u001b[0m     \u001b[38;5;28;01mreturn\u001b[39;00m \u001b[43mto_dict\u001b[49m\u001b[43m(\u001b[49m\u001b[38;5;28;43mself\u001b[39;49m\u001b[43m)\u001b[49m\n",
      "File \u001b[1;32mc:\\Users\\louis\\Desktop\\code\\pingpong\\eventsourcing\\data.py:53\u001b[0m, in \u001b[0;36mto_dict\u001b[1;34m(obj)\u001b[0m\n\u001b[0;32m     51\u001b[0m     res[key] \u001b[38;5;241m=\u001b[39m value\u001b[38;5;241m.\u001b[39mto_dict()\n\u001b[0;32m     52\u001b[0m \u001b[38;5;28;01melif\u001b[39;00m is_dataclass(value) \u001b[38;5;129;01mor\u001b[39;00m \u001b[38;5;28misinstance\u001b[39m(value, \u001b[38;5;28mdict\u001b[39m):\n\u001b[1;32m---> 53\u001b[0m     res[key] \u001b[38;5;241m=\u001b[39m \u001b[43mto_dict\u001b[49m\u001b[43m(\u001b[49m\u001b[43mvalue\u001b[49m\u001b[43m)\u001b[49m\n\u001b[0;32m     54\u001b[0m \u001b[38;5;28;01melif\u001b[39;00m \u001b[38;5;28misinstance\u001b[39m(value, \u001b[38;5;28mlist\u001b[39m):\n\u001b[0;32m     55\u001b[0m     new_list \u001b[38;5;241m=\u001b[39m []\n",
      "File \u001b[1;32mc:\\Users\\louis\\Desktop\\code\\pingpong\\eventsourcing\\data.py:57\u001b[0m, in \u001b[0;36mto_dict\u001b[1;34m(obj)\u001b[0m\n\u001b[0;32m     55\u001b[0m     new_list \u001b[38;5;241m=\u001b[39m []\n\u001b[0;32m     56\u001b[0m     \u001b[38;5;28;01mfor\u001b[39;00m val \u001b[38;5;129;01min\u001b[39;00m value:\n\u001b[1;32m---> 57\u001b[0m         new_list\u001b[38;5;241m.\u001b[39mappend(\u001b[43mto_dict\u001b[49m\u001b[43m(\u001b[49m\u001b[43mval\u001b[49m\u001b[43m)\u001b[49m)\n\u001b[0;32m     58\u001b[0m     res[key] \u001b[38;5;241m=\u001b[39m new_list\n\u001b[0;32m     59\u001b[0m \u001b[38;5;28;01melse\u001b[39;00m:\n",
      "File \u001b[1;32mc:\\Users\\louis\\Desktop\\code\\pingpong\\eventsourcing\\data.py:48\u001b[0m, in \u001b[0;36mto_dict\u001b[1;34m(obj)\u001b[0m\n\u001b[0;32m     46\u001b[0m     items_dict \u001b[38;5;241m=\u001b[39m \u001b[38;5;28mvars\u001b[39m(obj)\n\u001b[0;32m     47\u001b[0m \u001b[38;5;28;01melse\u001b[39;00m:\n\u001b[1;32m---> 48\u001b[0m     \u001b[38;5;28;01mraise\u001b[39;00m \u001b[38;5;167;01mTypeError\u001b[39;00m(\u001b[38;5;124m\"\u001b[39m\u001b[38;5;124mThe object should be a dictionary or a dataclass\u001b[39m\u001b[38;5;124m\"\u001b[39m)\n\u001b[0;32m     49\u001b[0m \u001b[38;5;28;01mfor\u001b[39;00m key, value \u001b[38;5;129;01min\u001b[39;00m items_dict\u001b[38;5;241m.\u001b[39mitems():\n\u001b[0;32m     50\u001b[0m     \u001b[38;5;28;01mif\u001b[39;00m \u001b[38;5;28misinstance\u001b[39m(value, Data):\n",
      "\u001b[1;31mTypeError\u001b[0m: The object should be a dictionary or a dataclass"
     ]
    }
   ],
   "source": [
    "event_store = JSONEventStore()\n",
    "await event_store.save_aggregate(federation)\n",
    "await event_store.save_aggregate(tournament)"
   ]
  }
 ],
 "metadata": {
  "kernelspec": {
   "display_name": "Python 3",
   "language": "python",
   "name": "python3"
  },
  "language_info": {
   "codemirror_mode": {
    "name": "ipython",
    "version": 3
   },
   "file_extension": ".py",
   "mimetype": "text/x-python",
   "name": "python",
   "nbconvert_exporter": "python",
   "pygments_lexer": "ipython3",
   "version": "3.12.7"
  }
 },
 "nbformat": 4,
 "nbformat_minor": 2
}
