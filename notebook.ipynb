{
 "cells": [
  {
   "cell_type": "code",
   "execution_count": 1,
   "metadata": {},
   "outputs": [],
   "source": [
    "from eventsourcing.event_stores import InMemEventStore\n",
    "from eventsourcing.exceptions import ConcurrencyError\n",
    "from models import Tournament, Federation\n",
    "from models.entities import Participant\n",
    "from tournament_service import TournamentService, ClubForm, ParticipantForm\n",
    "from uuid import uuid4\n",
    "from datetime import date"
   ]
  },
  {
   "cell_type": "code",
   "execution_count": 2,
   "metadata": {},
   "outputs": [],
   "source": [
    "competition = Tournament(\"금관리그 11월정기리그\", \"금관리그 11월정기리그\", date(2024,11,23))\n",
    "federation = Federation(\"SKFTT\")\n",
    "tournament_service = TournamentService(federation)"
   ]
  },
  {
   "cell_type": "code",
   "execution_count": 3,
   "metadata": {},
   "outputs": [],
   "source": [
    "# federation.register_club(\"인헌탁구클럽\", \"관악구민쳬\", \"관악탁구\", \"낙성대탁구\", \"럭키탁구\", \"성원탁구\", \"소사탁구\", \"신사리탁구\", \"엘리트동호\", \"정수탁구\", \"최은권탁구\", \"탁우리\", \"한성탁구\")\n",
    "# print(federation.clubs)"
   ]
  },
  {
   "cell_type": "code",
   "execution_count": 4,
   "metadata": {},
   "outputs": [],
   "source": [
    "# federation.register_many_players([\"루이\",\"치효규\",\"장인성\", \"장성규\", \"홍정현\", \"배선준\", ])\n",
    "# print(federation.players)"
   ]
  },
  {
   "cell_type": "code",
   "execution_count": 8,
   "metadata": {},
   "outputs": [
    {
     "name": "stdout",
     "output_type": "stream",
     "text": [
      "14\n",
      "46\n",
      "46\n"
     ]
    }
   ],
   "source": [
    "tournament_service.register_players_to_tournament(competition, [ClubForm(id=\"개인\", player_list=[ParticipantForm(id=\"장성규\", rank=5),\n",
    "                                                                                            ParticipantForm(id=\"홍정현\", rank=5),\n",
    "                                                                                            ParticipantForm(id=\"배선준\", rank=6),\n",
    "                                                                                            ParticipantForm(id=\"고광일\", rank=7),\n",
    "                                                                                            ParticipantForm(id=\"남창호\", rank=7),\n",
    "                                                                                            ParticipantForm(id=\"조일구\", rank=7)]),\n",
    "                                                                ClubForm(id=\"관악구민쳬\", player_list=[ParticipantForm(id=\"김병준\", rank=9)]),\n",
    "                                                                ClubForm(id=\"관악타구\", player_list=[ParticipantForm(id=\"김광민\", rank=7),\n",
    "                                                                                            ParticipantForm(id=\"김봉우\", rank=7),\n",
    "                                                                                            ParticipantForm(id=\"김주형\", rank=7),\n",
    "                                                                                            ParticipantForm(id=\"오태희\", rank=7),\n",
    "                                                                                            ParticipantForm(id=\"정용운\", rank=8)]),\n",
    "                                                                ClubForm(id=\"낙성대탁구\", player_list=[ParticipantForm(id=\"김민석\", rank=6),\n",
    "                                                                                            ParticipantForm(id=\"윤범식\", rank=8),\n",
    "                                                                                            ParticipantForm(id=\"김동현\", rank=9),\n",
    "                                                                                            ParticipantForm(id=\"김찬혁\", rank=8)\n",
    "                                                                                            ]),\n",
    "                                                                ClubForm(id=\"럭키탁구\", player_list=[ParticipantForm(id=\"김창환\", rank=8),\n",
    "                                                                                            ParticipantForm(id=\"김헌민\", rank=8),\n",
    "                                                                                            ParticipantForm(id=\"손영웅\", rank=9),\n",
    "                                                                                            ParticipantForm(id=\"이용규\", rank=9)\n",
    "                                                                                            ]),\n",
    "                                                                ClubForm(id=\"성원탁구\", player_list=[ParticipantForm(id=\"김인환\", rank=7),\n",
    "                                                                                            ParticipantForm(id=\"김재학\", rank=7),\n",
    "                                                                                            ParticipantForm(id=\"김대식\", rank=8),\n",
    "                                                                                            ParticipantForm(id=\"정두석\", rank=8),\n",
    "                                                                                            ParticipantForm(id=\"임재국\", rank=9)\n",
    "                                                                                            ]),\n",
    "                                                                ClubForm(id=\"소사탁구\", player_list=[ParticipantForm(id=\"김대영\", rank=5),\n",
    "                                                                                            ParticipantForm(id=\"박경옥\", rank=8),\n",
    "                                                                                            ]),\n",
    "                                                                ClubForm(id=\"신사리탁구\", player_list=[ParticipantForm(id=\"김현욱\", rank=8)\n",
    "                                                                                            ]),\n",
    "                                                                ClubForm(id=\"엘리트동호\", player_list=[ParticipantForm(id=\"이영덕\", rank=8)]),\n",
    "                                                                ClubForm(id=\"인헌탁구\", player_list=[ParticipantForm(id=\"루이\", rank=6),\n",
    "                                                                                            ParticipantForm(id=\"김성호\", rank=7),\n",
    "                                                                                            ParticipantForm(id=\"정상민\", rank=8),\n",
    "                                                                                            ParticipantForm(id=\"장인성\", rank=9),\n",
    "                                                                                            ParticipantForm(id=\"정재영\", rank=9)\n",
    "                                                                                            ]),\n",
    "                                                                ClubForm(id=\"정수탁구\", player_list=[ParticipantForm(id=\"윤경석\", rank=8),\n",
    "                                                                                            ParticipantForm(id=\"이승환\", rank=8)\n",
    "                                                                                            ]),\n",
    "                                                                ClubForm(id=\"최은권탁구\", player_list=[ParticipantForm(id=\"박종희\", rank=7),\n",
    "                                                                                            ParticipantForm(id=\"오세광\", rank=7),\n",
    "                                                                                            ParticipantForm(id=\"사세진\", rank=8),\n",
    "                                                                                            ParticipantForm(id=\"윤해찬\", rank=8)\n",
    "                                                                                            ]),\n",
    "                                                                ClubForm(id=\"탁우리\", player_list=[ParticipantForm(id=\"허정회\", rank=6),\n",
    "                                                                                            ParticipantForm(id=\"신치만\", rank=8),\n",
    "                                                                                            ParticipantForm(id=\"최용귀\", rank=9)\n",
    "                                                                                            ]),\n",
    "                                                                ClubForm(id=\"한성탁구\", player_list=[ParticipantForm(id=\"김성곤\", rank=7),\n",
    "                                                                                            ParticipantForm(id=\"김동주\", rank=8),\n",
    "                                                                                            ParticipantForm(id=\"이정기\", rank=9)\n",
    "                                                                                            ])\n",
    "                                                                ])\n",
    "\n",
    "print(len(federation.clubs))\n",
    "print(len(federation.players))\n",
    "print(len(competition.participants))"
   ]
  },
  {
   "cell_type": "code",
   "execution_count": null,
   "metadata": {},
   "outputs": [],
   "source": []
  }
 ],
 "metadata": {
  "kernelspec": {
   "display_name": "Python 3",
   "language": "python",
   "name": "python3"
  },
  "language_info": {
   "codemirror_mode": {
    "name": "ipython",
    "version": 3
   },
   "file_extension": ".py",
   "mimetype": "text/x-python",
   "name": "python",
   "nbconvert_exporter": "python",
   "pygments_lexer": "ipython3",
   "version": "3.12.7"
  }
 },
 "nbformat": 4,
 "nbformat_minor": 2
}
